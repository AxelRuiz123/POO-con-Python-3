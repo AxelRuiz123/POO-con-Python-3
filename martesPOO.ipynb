{
  "nbformat": 4,
  "nbformat_minor": 0,
  "metadata": {
    "colab": {
      "provenance": [],
      "authorship_tag": "ABX9TyOaNCqBiX/0wK+xKm7rx4MG",
      "include_colab_link": true
    },
    "kernelspec": {
      "name": "python3",
      "display_name": "Python 3"
    },
    "language_info": {
      "name": "python"
    }
  },
  "cells": [
    {
      "cell_type": "markdown",
      "metadata": {
        "id": "view-in-github",
        "colab_type": "text"
      },
      "source": [
        "<a href=\"https://colab.research.google.com/github/AxelRuiz123/martes-POO/blob/main/martesPOO.ipynb\" target=\"_parent\"><img src=\"https://colab.research.google.com/assets/colab-badge.svg\" alt=\"Open In Colab\"/></a>"
      ]
    },
    {
      "cell_type": "code",
      "execution_count": null,
      "metadata": {
        "id": "r7R0b89w8oKe"
      },
      "outputs": [],
      "source": [
        "alumno = {'numero_cuenta' : 1232322 , 'carrera' : 'ICO' ,\n",
        "            'direccion' : {'calle' : 'rancho seco', 'numero' : 23},\n",
        "          'telefonos':['5543234543','34343434342']\n",
        "          }"
      ]
    },
    {
      "cell_type": "code",
      "source": [
        "print(alumno['direccion']['calle'][3:6:1])\n",
        "print(alumno['telefonos'])\n",
        "print(alumno)\n",
        "alumno['facultad'] = \"FES Aragon\"\n",
        "print(alumno)"
      ],
      "metadata": {
        "colab": {
          "base_uri": "https://localhost:8080/"
        },
        "id": "8FcTFDFz9Aok",
        "outputId": "400b38c1-bd71-4553-8f51-79ed12fd5a89"
      },
      "execution_count": null,
      "outputs": [
        {
          "output_type": "stream",
          "name": "stdout",
          "text": [
            "cho\n",
            "['5543234543', '34343434342']\n",
            "{'numero_cuenta': 1232322, 'carrera': 'ICO', 'direccion': {'calle': 'rancho seco', 'numero': 23}, 'telefonos': ['5543234543', '34343434342']}\n",
            "{'numero_cuenta': 1232322, 'carrera': 'ICO', 'direccion': {'calle': 'rancho seco', 'numero': 23}, 'telefonos': ['5543234543', '34343434342'], 'facultad': 'FES Aragon'}\n"
          ]
        }
      ]
    },
    {
      "cell_type": "code",
      "source": [
        " #if\n",
        "edad = 20\n",
        "if edad >= 18:\n",
        "    print(\"Eres mayor de edad.\")\n",
        "    print(\"otra cosa\")\n",
        "    print(\"algo mas\")"
      ],
      "metadata": {
        "colab": {
          "base_uri": "https://localhost:8080/"
        },
        "id": "inWHvEDF_CLD",
        "outputId": "d792f84a-35b7-4658-db24-8a2d130e5e24"
      },
      "execution_count": null,
      "outputs": [
        {
          "output_type": "stream",
          "name": "stdout",
          "text": [
            "Eres mayor de edad.\n",
            "otra cosa\n",
            "algo mas\n"
          ]
        }
      ]
    },
    {
      "cell_type": "code",
      "source": [
        "# if-esle\n",
        "edad = 15\n",
        "if edad >= 18:\n",
        "    print(\"Eres mayor de edad.\")\n",
        "else:\n",
        "    print(\"Eres menor de edad.\")"
      ],
      "metadata": {
        "colab": {
          "base_uri": "https://localhost:8080/"
        },
        "id": "U9MoAZuq_Mol",
        "outputId": "3904812d-8b2f-43c1-9cb0-b13f5fd88938"
      },
      "execution_count": null,
      "outputs": [
        {
          "output_type": "stream",
          "name": "stdout",
          "text": [
            "Eres menor de edad.\n"
          ]
        }
      ]
    },
    {
      "cell_type": "code",
      "source": [
        "# if- elif - else\n",
        "edad = 20\n",
        "if edad < 13:\n",
        "    print(\"Eres un niño.\")\n",
        "elif edad < 18:\n",
        "    print(\"Eres un adolescente.\")\n",
        "else:\n",
        "    print(\"Eres un adulto.\")\n"
      ],
      "metadata": {
        "id": "H7myGiCb_6rg"
      },
      "execution_count": null,
      "outputs": []
    },
    {
      "cell_type": "code",
      "source": [
        "# if-elif-elif    -- Seleccion multiple (switch )\n",
        "edad = 20\n",
        "if edad < 13:\n",
        "    print(\"Eres un niño.\")\n",
        "elif edad < 18:\n",
        "    print(\"Eres un adolescente.\")\n",
        "elif edad < 30:\n",
        "    print(\"Eres un joven adulto.\")"
      ],
      "metadata": {
        "colab": {
          "base_uri": "https://localhost:8080/"
        },
        "id": "HM01qy4AAWFk",
        "outputId": "71785fa0-b675-4309-8d8a-f87143a699e9"
      },
      "execution_count": null,
      "outputs": [
        {
          "output_type": "stream",
          "name": "stdout",
          "text": [
            "Eres un joven adulto.\n"
          ]
        }
      ]
    },
    {
      "cell_type": "code",
      "source": [
        "# For   for(int = 1 ; i<10 ; i++)\n",
        "for i in range(1, 10, 1):\n",
        "    print(i)"
      ],
      "metadata": {
        "colab": {
          "base_uri": "https://localhost:8080/"
        },
        "id": "otltIBAcBWVV",
        "outputId": "7405bc48-68b4-4c90-8ee8-c6e9e29ea34a"
      },
      "execution_count": null,
      "outputs": [
        {
          "output_type": "stream",
          "name": "stdout",
          "text": [
            "1\n",
            "2\n",
            "3\n",
            "4\n",
            "5\n",
            "6\n",
            "7\n",
            "8\n",
            "9\n"
          ]
        }
      ]
    },
    {
      "cell_type": "code",
      "source": [
        "frutas = ['piña', 'pera', 'manzana', 'fresa', 'aguacate']\n",
        "for numero in frutas:\n",
        "    print(numero)\n",
        "print(\"-------------------------------------------------\")\n",
        "for numero in frutas:\n",
        "    if numero == \"manzana\":\n",
        "        continue   # ó continue\n",
        "    print(numero)  # imprime la fruta\n",
        "print(\"Fin\")"
      ],
      "metadata": {
        "colab": {
          "base_uri": "https://localhost:8080/"
        },
        "id": "JJ5v2317CNz1",
        "outputId": "8dfb8737-2ea6-466e-c96d-96264aee7abe"
      },
      "execution_count": null,
      "outputs": [
        {
          "output_type": "stream",
          "name": "stdout",
          "text": [
            "piña\n",
            "pera\n",
            "manzana\n",
            "fresa\n",
            "aguacate\n",
            "-------------------------------------------------\n",
            "piña\n",
            "pera\n",
            "fresa\n",
            "aguacate\n",
            "Fin\n"
          ]
        }
      ]
    },
    {
      "cell_type": "code",
      "source": [
        "tam = 0\n",
        "while tam < 10:\n",
        "  print(tam)\n",
        "  tam = int(input(\"Dame un entero: \"))\n",
        "print(\"Final\")"
      ],
      "metadata": {
        "colab": {
          "base_uri": "https://localhost:8080/"
        },
        "id": "lFt3xCHBC7Bh",
        "outputId": "2263a4e3-f6f6-450a-b2fc-e7780e715d4a"
      },
      "execution_count": null,
      "outputs": [
        {
          "output_type": "stream",
          "name": "stdout",
          "text": [
            "0\n",
            "Dame un entero: 5\n",
            "5\n",
            "Dame un entero: 89\n",
            "Final\n"
          ]
        }
      ]
    }
  ]
}